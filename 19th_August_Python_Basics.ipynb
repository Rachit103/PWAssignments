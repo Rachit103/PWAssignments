{
 "cells": [
  {
   "cell_type": "markdown",
   "id": "ee48159a-51a6-4371-b946-7f3b6bf0e263",
   "metadata": {},
   "source": [
    "1. Declare two variables, `x` and `y`, and assign them integer values. Swap the\n",
    "values of these variables without using any temporary variable.\n"
   ]
  },
  {
   "cell_type": "code",
   "execution_count": 1,
   "id": "4d73c3cd-5947-43f4-8dbd-3e307e87c795",
   "metadata": {},
   "outputs": [],
   "source": [
    "x=10"
   ]
  },
  {
   "cell_type": "code",
   "execution_count": 2,
   "id": "659ddbad-3339-4c00-a2cf-a0346cb7ea83",
   "metadata": {},
   "outputs": [],
   "source": [
    "y=4"
   ]
  },
  {
   "cell_type": "code",
   "execution_count": 3,
   "id": "1ca2565d-c412-4193-9d10-e03c8886be11",
   "metadata": {},
   "outputs": [
    {
     "data": {
      "text/plain": [
       "14"
      ]
     },
     "execution_count": 3,
     "metadata": {},
     "output_type": "execute_result"
    }
   ],
   "source": [
    "x=x+y\n",
    "x"
   ]
  },
  {
   "cell_type": "code",
   "execution_count": 4,
   "id": "9ab3fca3-baed-439c-8098-e013f07deae3",
   "metadata": {},
   "outputs": [
    {
     "data": {
      "text/plain": [
       "10"
      ]
     },
     "execution_count": 4,
     "metadata": {},
     "output_type": "execute_result"
    }
   ],
   "source": [
    "y=x-y\n",
    "y"
   ]
  },
  {
   "cell_type": "code",
   "execution_count": 5,
   "id": "bdf4d706-1b88-49de-b80b-180c340bebeb",
   "metadata": {},
   "outputs": [
    {
     "data": {
      "text/plain": [
       "4"
      ]
     },
     "execution_count": 5,
     "metadata": {},
     "output_type": "execute_result"
    }
   ],
   "source": [
    "x=x-y\n",
    "x"
   ]
  },
  {
   "cell_type": "markdown",
   "id": "bc4500da-5752-4dac-b312-7f9ccf44f3c2",
   "metadata": {},
   "source": [
    "2. Create a program that calculates the area of a rectangle. Take the length and\n",
    "width as inputs from the user and store them in variables. Calculate and\n",
    "display the area.\n"
   ]
  },
  {
   "cell_type": "code",
   "execution_count": 6,
   "id": "17002dc8-a894-4fd7-b3b8-bbb753f278a1",
   "metadata": {},
   "outputs": [
    {
     "name": "stdin",
     "output_type": "stream",
     "text": [
      "Enter length of rectangle: 21\n"
     ]
    }
   ],
   "source": [
    "l=int(input(\"Enter length of rectangle:\")) #length"
   ]
  },
  {
   "cell_type": "code",
   "execution_count": 7,
   "id": "b11c0039-a193-43df-b566-f8d6692c2bfb",
   "metadata": {},
   "outputs": [
    {
     "name": "stdin",
     "output_type": "stream",
     "text": [
      "Enter width of rectangle: 34\n"
     ]
    }
   ],
   "source": [
    "b=int(input(\"Enter width of rectangle:\")) #width"
   ]
  },
  {
   "cell_type": "code",
   "execution_count": 8,
   "id": "fec470b1-1d0e-4219-adfb-cd888a3c13d3",
   "metadata": {},
   "outputs": [
    {
     "name": "stdout",
     "output_type": "stream",
     "text": [
      "Area of rectangle is : 714\n"
     ]
    }
   ],
   "source": [
    "Area = l*b #Area of rectangle\n",
    "print(\"Area of rectangle is :\", Area)"
   ]
  },
  {
   "cell_type": "markdown",
   "id": "8a1bad32-f38f-4576-a72c-3df0ede9bb58",
   "metadata": {},
   "source": [
    "3. Write a Python program that converts temperatures from Celsius to\n",
    "Fahrenheit. Take the temperature in Celsius as input, store it in a variable,\n",
    "convert it to Fahrenheit, and display the result."
   ]
  },
  {
   "cell_type": "code",
   "execution_count": 9,
   "id": "64a7edd2-787e-4684-881e-033669e1b923",
   "metadata": {},
   "outputs": [
    {
     "name": "stdin",
     "output_type": "stream",
     "text": [
      "Enter temperature in Celsius 45\n"
     ]
    }
   ],
   "source": [
    "temp = float(input(\"Enter temperature in Celsius\"))"
   ]
  },
  {
   "cell_type": "code",
   "execution_count": 10,
   "id": "6a056fcc-36c7-4fd6-8d50-883b6ac9bcff",
   "metadata": {},
   "outputs": [],
   "source": [
    "temp = (temp*1.8)+32 #Convert celsius into fahrenheit"
   ]
  },
  {
   "cell_type": "code",
   "execution_count": 11,
   "id": "7fc39a5d-7509-46f0-a197-d4eaf0d9658f",
   "metadata": {},
   "outputs": [
    {
     "name": "stdout",
     "output_type": "stream",
     "text": [
      "Temperature in Fahrenheit is:  113.0\n"
     ]
    }
   ],
   "source": [
    "print(\"Temperature in Fahrenheit is: \", temp)"
   ]
  },
  {
   "cell_type": "markdown",
   "id": "00c49e2e-4f46-4392-92f3-685b79620be9",
   "metadata": {},
   "source": [
    " String Based Questions"
   ]
  },
  {
   "cell_type": "markdown",
   "id": "94c28f1a-dc66-4a97-a644-beac95da4248",
   "metadata": {},
   "source": [
    "1. Write a Python program that takes a string as input and prints the length of\n",
    "the string."
   ]
  },
  {
   "cell_type": "code",
   "execution_count": 12,
   "id": "05d1ffcd-ba05-4897-804b-6d9b9100426e",
   "metadata": {},
   "outputs": [
    {
     "name": "stdin",
     "output_type": "stream",
     "text": [
      "Enter any string that you want:  I love Python\n"
     ]
    }
   ],
   "source": [
    "abc = input(\"Enter any string that you want: \")"
   ]
  },
  {
   "cell_type": "code",
   "execution_count": 13,
   "id": "bda7ff4b-892b-493b-8f6c-dadfee4de158",
   "metadata": {},
   "outputs": [
    {
     "name": "stdout",
     "output_type": "stream",
     "text": [
      "Length of your string is: 13\n"
     ]
    }
   ],
   "source": [
    "print(\"Length of your string is:\", len(abc))"
   ]
  },
  {
   "cell_type": "markdown",
   "id": "fa0152c0-a7bd-49ba-9890-39b2e99d9040",
   "metadata": {},
   "source": [
    "2. Create a program that takes a sentence from the user and counts the number\n",
    "of vowels (a, e, i, o, u) in the string."
   ]
  },
  {
   "cell_type": "code",
   "execution_count": 14,
   "id": "a8a05297-67cd-42be-a840-6a4401503770",
   "metadata": {},
   "outputs": [
    {
     "name": "stdin",
     "output_type": "stream",
     "text": [
      "Enter any sentence that you want:  I love Programming especially Python\n"
     ]
    }
   ],
   "source": [
    "inp = input(\"Enter any sentence that you want: \")"
   ]
  },
  {
   "cell_type": "code",
   "execution_count": 15,
   "id": "390c4971-2c27-4619-b5be-94ad0856c5e1",
   "metadata": {},
   "outputs": [],
   "source": [
    "inp=inp.lower()"
   ]
  },
  {
   "cell_type": "code",
   "execution_count": 16,
   "id": "8e36263e-bdac-44b9-81e7-25cf483677e2",
   "metadata": {},
   "outputs": [
    {
     "name": "stdout",
     "output_type": "stream",
     "text": [
      "Number of vowels: 11\n"
     ]
    }
   ],
   "source": [
    "vowel_count = sum(1 for char in inp if char in \"aeiou\")\n",
    "print(\"Number of vowels:\", vowel_count)"
   ]
  },
  {
   "cell_type": "markdown",
   "id": "db8836dc-ab08-4964-ada9-6ca81a97e87f",
   "metadata": {},
   "source": [
    "3. Given a string, reverse the order of characters using string slicing and print\n",
    "the reversed string."
   ]
  },
  {
   "cell_type": "code",
   "execution_count": 17,
   "id": "32da6be2-b9b5-464d-accd-a65f43cb9fb0",
   "metadata": {},
   "outputs": [
    {
     "name": "stdin",
     "output_type": "stream",
     "text": [
      "Enter string:  I am Rachit Aggarwal\n"
     ]
    }
   ],
   "source": [
    "abc = input(\"Enter string: \")"
   ]
  },
  {
   "cell_type": "code",
   "execution_count": 18,
   "id": "df163d7a-64d8-499e-a497-c66f1e1faf09",
   "metadata": {},
   "outputs": [
    {
     "name": "stdout",
     "output_type": "stream",
     "text": [
      "Reversed String is:  lawraggA tihcaR ma I\n"
     ]
    }
   ],
   "source": [
    "abc = abc[::-1]\n",
    "print(\"Reversed String is: \", abc)"
   ]
  },
  {
   "cell_type": "markdown",
   "id": "556b1d3c-054c-4a04-ae3b-726f734a8cd9",
   "metadata": {},
   "source": [
    "4. Write a program that takes a string as input and checks if it is a palindrome\n",
    "(reads the same forwards and backwards)."
   ]
  },
  {
   "cell_type": "code",
   "execution_count": 19,
   "id": "097f80eb-d0bc-4237-8b7e-6138707db378",
   "metadata": {},
   "outputs": [
    {
     "name": "stdin",
     "output_type": "stream",
     "text": [
      "Enter your string:  Naman\n"
     ]
    }
   ],
   "source": [
    "inp=input(\"Enter your string: \")"
   ]
  },
  {
   "cell_type": "code",
   "execution_count": 20,
   "id": "3c5eb655-aafe-407b-9f98-d6138909b465",
   "metadata": {},
   "outputs": [],
   "source": [
    "inp = inp.lower()"
   ]
  },
  {
   "cell_type": "code",
   "execution_count": 21,
   "id": "b49a94f7-f78b-49a7-8f6b-41c3ee237c2e",
   "metadata": {},
   "outputs": [],
   "source": [
    "reversed = inp[::-1]"
   ]
  },
  {
   "cell_type": "code",
   "execution_count": 22,
   "id": "3375fd97-dba5-4858-87f5-bab050008269",
   "metadata": {},
   "outputs": [
    {
     "name": "stdout",
     "output_type": "stream",
     "text": [
      "It's a palindrome!\n"
     ]
    }
   ],
   "source": [
    "if inp==reversed:\n",
    "    print(\"It's a palindrome!\")\n",
    "else:\n",
    "    print(\"It's not a palindrome.\")"
   ]
  },
  {
   "cell_type": "markdown",
   "id": "929bb9e5-5812-4450-9d7d-ed0cf893514e",
   "metadata": {},
   "source": [
    "5. Create a program that takes a string as input and removes all the spaces from\n",
    "it. Print the modified string without spaces."
   ]
  },
  {
   "cell_type": "code",
   "execution_count": 29,
   "id": "7b3d5a9a-6d93-4605-a104-7346291c8b3f",
   "metadata": {},
   "outputs": [
    {
     "name": "stdin",
     "output_type": "stream",
     "text": [
      "Enter your string:  h  e  y th e re h ow      a r e yo   u  b u ddy\n"
     ]
    }
   ],
   "source": [
    "abc = input(\"Enter your string: \")"
   ]
  },
  {
   "cell_type": "code",
   "execution_count": 30,
   "id": "9841a3a7-db4c-4d52-bae3-6edf3d53daee",
   "metadata": {},
   "outputs": [
    {
     "data": {
      "text/plain": [
       "'heytherehowareyoubuddy'"
      ]
     },
     "execution_count": 30,
     "metadata": {},
     "output_type": "execute_result"
    }
   ],
   "source": [
    "abc = \"\".join(abc.split())\n",
    "abc"
   ]
  },
  {
   "cell_type": "code",
   "execution_count": null,
   "id": "2d537305-4a17-4c7c-97f7-c6a08a8a9930",
   "metadata": {},
   "outputs": [],
   "source": []
  }
 ],
 "metadata": {
  "kernelspec": {
   "display_name": "Python 3 (ipykernel)",
   "language": "python",
   "name": "python3"
  },
  "language_info": {
   "codemirror_mode": {
    "name": "ipython",
    "version": 3
   },
   "file_extension": ".py",
   "mimetype": "text/x-python",
   "name": "python",
   "nbconvert_exporter": "python",
   "pygments_lexer": "ipython3",
   "version": "3.10.8"
  }
 },
 "nbformat": 4,
 "nbformat_minor": 5
}
